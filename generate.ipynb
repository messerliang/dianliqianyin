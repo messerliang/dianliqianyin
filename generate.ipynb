{
 "cells": [
  {
   "cell_type": "code",
   "execution_count": 27,
   "metadata": {},
   "outputs": [],
   "source": [
    "import os\n",
    "import shutil\n",
    "import time\n",
    "import datetime"
   ]
  },
  {
   "cell_type": "code",
   "execution_count": 2,
   "metadata": {},
   "outputs": [],
   "source": [
    "root = '../'\n",
    "homework1 = '../第三章作业1/'\n",
    "homework2 = '../第三章作业2/'\n",
    "homework3 = '../第三章作业3/'\n",
    "homework4 = '../第四章作业1/'\n",
    "homework5 = '../第五章作业/'\n",
    "homeworks = [homework1, homework2, homework3, homework4, homework5]"
   ]
  },
  {
   "cell_type": "code",
   "execution_count": 36,
   "metadata": {},
   "outputs": [
    {
     "data": {
      "text/plain": [
       "'电力牵引作业提交.html'"
      ]
     },
     "execution_count": 36,
     "metadata": {},
     "output_type": "execute_result"
    }
   ],
   "source": [
    "fp = open('电力牵引作业提交.txt', 'w+', encoding='utf-8')\n",
    "fp.write('''<!DOCTYPE html>\n",
    "<html lang=\"en\">\n",
    "<head>\n",
    "    <meta charset=\"UTF-8\">\n",
    "    <meta http-equiv=\"X-UA-Compatible\" content=\"IE=edge\">\n",
    "    <meta name=\"viewport\" content=\"width=device-width, initial-scale=1.0\">\n",
    "    <title>电力牵引2023</title>\n",
    "    <link rel=\"stylesheet\" href=\"./src/style.css\">\n",
    "    <link rel=\"stylesheet\" href=\"./src/highlight.css\">\n",
    "    <link rel=\"shortcut icon\" href=\"./src/logo.ico\">\n",
    "</head>\n",
    "<body>\n",
    "    \n",
    "    \n",
    "    <div class=\"container\">\n",
    "        <!-- 题目 -->\n",
    "        <div class=\"title\">\n",
    "            <h1>接收的电力牵引作业</h1>\n",
    "''')\n",
    "fp.write('\\t\\t\\t<p class=\"time\">更新时间：' + str(datetime.datetime.now()) + '</p>\\n')\n",
    "fp.write('\\t\\t</div> \\n')\n",
    "for hw in homeworks:\n",
    "    \n",
    "    hwname = hw.split('/')[1]\n",
    "    subitems1 = os.listdir(hw)\n",
    "    img = ''\n",
    "    hwitems  = []\n",
    "    for item1 in subitems1:\n",
    "        if item1.split('.')[-1] == 'png':\n",
    "            img = item1\n",
    "        elif os.path.isdir(hw + item1):\n",
    "            subitems2 = os.listdir(hw + item1)\n",
    "            for item2 in subitems2:\n",
    "                hwitems.append(item2)\n",
    "        else:\n",
    "            hwitems.append(item1)\n",
    "    fp.write('\\t\\t<div class=\"content\">\\n\\t\\t\\t<div id=\"' + hwname + '\"> \\n'+\n",
    "    '\\t\\t\\t\\t<h2>' + hwname + '</h2>\\n' + \n",
    "    '\\t\\t\\t\\t<h3>要求</h3>\\n' \n",
    "    )\n",
    "    # 图片格式的作业要求\n",
    "    if( img != ''):\n",
    "        fp.write('\\t\\t\\t\\t<div style=\"width:100%\"><img src=\"./要求/' + hwname + '.png\" alt=\"作业要求文件缺失\" width=\"100%\"></div>\\n')\n",
    "    fp.write('\\t\\t\\t\\t<h3>收到的作业文件</h3>\\n')\n",
    "    fp.write('\\t\\t\\t\\t<div class=\"itemcontainer\">\\n')\n",
    "    for it in hwitems:\n",
    "        fp.write('\\t\\t\\t\\t\\t<span class=\"item\">' + it + '</span>\\n')\n",
    "    fp.write('''\\t\\t\\t\\t</div>\\n\\t\\t\\t</div>\\n\\t\\t</div>\\n''')\n",
    "\n",
    "fp.write('\\t</div>\\n')\n",
    "# 目录\n",
    "fp.write('\\t<div class=\"leftside\" id=\"leftside\">\\n')\n",
    "fp.write('\\t\\t<div class=\"catalog\">\\n')\n",
    "for hw in homeworks:\n",
    "    hwname = hw.split('/')[1]\n",
    "    fp.write('\\t\\t\\t<a href=\"#'+ hwname + '\">' + hwname + '</a>\\n')\n",
    "fp.write('\\t\\t</div>\\n\\t</div>')\n",
    "fp.write('''\n",
    "</body>\n",
    "<script type=\"text/javascript\">\n",
    "        window.onscroll=function(){\n",
    "            var topScroll=document.documentElement.scrollTop;\n",
    "            var bignav=document.getElementById(\"leftside\");\n",
    "            if(topScroll > (124.5 + 32)){\n",
    "                bignav.style.position = 'fixed'\n",
    "                bignav.style.top='0';\n",
    "            }else{\n",
    "                bignav.style.position = 'absolute';\n",
    "                bignav.style.top='calc(124.5px + 2em)';\n",
    "            }\n",
    "        }\n",
    "</script>\n",
    "</html>\n",
    "''')\n",
    "fp.close()\n",
    "\n",
    "shutil.move('电力牵引作业提交.txt', '电力牵引作业提交.html')"
   ]
  },
  {
   "cell_type": "code",
   "execution_count": 31,
   "metadata": {},
   "outputs": [
    {
     "name": "stdout",
     "output_type": "stream",
     "text": [
      "2023-05-23 21:48:44.557146\n"
     ]
    }
   ],
   "source": [
    "print(str(datetime.datetime.now ()))"
   ]
  },
  {
   "cell_type": "code",
   "execution_count": null,
   "metadata": {},
   "outputs": [],
   "source": [
    "'''\n",
    "    <div class=\"leftside\" id=\"leftside\">\n",
    "        <div style=\"background-color: #fff; border-radius: 5px;\">\n",
    "            <a href=\"#第三章作业1\">第三章作业1</a>\n",
    "            <a href=\"#第三章作业2\">第三章作业2</a>\n",
    "        </div>\n",
    "    </div>\n",
    "'''"
   ]
  }
 ],
 "metadata": {
  "kernelspec": {
   "display_name": "Python 3",
   "language": "python",
   "name": "python3"
  },
  "language_info": {
   "codemirror_mode": {
    "name": "ipython",
    "version": 3
   },
   "file_extension": ".py",
   "mimetype": "text/x-python",
   "name": "python",
   "nbconvert_exporter": "python",
   "pygments_lexer": "ipython3",
   "version": "3.8.0"
  },
  "orig_nbformat": 4
 },
 "nbformat": 4,
 "nbformat_minor": 2
}
